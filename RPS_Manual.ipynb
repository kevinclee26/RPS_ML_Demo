{
 "cells": [
  {
   "cell_type": "markdown",
   "metadata": {},
   "source": [
    "### activity to manually program rules for RPS"
   ]
  },
  {
   "cell_type": "code",
   "execution_count": 28,
   "metadata": {},
   "outputs": [
    {
     "name": "stdout",
     "output_type": "stream",
     "text": [
      "Let's Play Rock Paper Scissors!\n",
      "Player 1 - Choose: (r)ock, (p)aper? r\n",
      "Player 2 - Choose: (r)ock, (p)aper? p\n",
      "Player 1 chose r. Player 2 chose p.\n",
      "Sorry. Player 1 lose.\n"
     ]
    }
   ],
   "source": [
    "# Print Title\n",
    "print(\"Let's Play Rock Paper Scissors!\")\n",
    "\n",
    "# User selection\n",
    "player_1 = input(\"Player 1 - Choose: (r)ock, (p)aper? \")\n",
    "player_2 = input(\"Player 2 - Choose: (r)ock, (p)aper? \")\n",
    "\n",
    "# Run conditionals\n",
    "if (player_1 == player_2): \n",
    "    result=\"A smashing tie!\"\n",
    "    \n",
    "elif (player_1 == \"r\" and player_2 == \"p\"):\n",
    "    result=\"Sorry. Player 1 lose.\"\n",
    "\n",
    "elif (player_1 == \"p\" and player_2 == \"r\"):\n",
    "    result=\"Yay! Player 1 won.\"\n",
    "\n",
    "else:\n",
    "    result=\"I don't understand! Next time, choose from 'r' or 'p'.\"\n",
    "    \n",
    "print(f\"Player 1 chose {player_1}. Player 2 chose {player_2}.\")\n",
    "print(result)"
   ]
  },
  {
   "cell_type": "code",
   "execution_count": 27,
   "metadata": {},
   "outputs": [
    {
     "name": "stdout",
     "output_type": "stream",
     "text": [
      "Let's Play Rock Paper Scissors!\n",
      "Player 1 -  Choose from: (r)ock, (p)aper, (s)cissors? r\n",
      "Player 2 -  Choose from: (r)ock, (p)aper, (s)cissors? p\n",
      "Player 1 chose r. Player 2 chose p.\n",
      "Sorry. Player 1 lose.\n"
     ]
    }
   ],
   "source": [
    "# Print Title\n",
    "print(\"Let's Play Rock Paper Scissors!\")\n",
    "\n",
    "# User selection\n",
    "player_1 = input(\"Player 1 - Choose: (r)ock, (p)aper, (s)cissors? \")\n",
    "player_2 = input(\"Player 2 - Choose: (r)ock, (p)aper, (s)cissors? \")\n",
    "\n",
    "# Run conditionals\n",
    "if (player_1 == player_2): \n",
    "    result=\"A smashing tie!\"\n",
    "    \n",
    "elif (player_1 == \"r\" and player_2 == \"p\"):\n",
    "    result=\"Sorry. Player 1 lose.\"\n",
    "\n",
    "elif (player_1 == \"p\" and player_2 == \"s\"):\n",
    "    result=\"Sorry. Player 1 lose.\"\n",
    "    \n",
    "elif (player_1 == \"s\" and player_2 == \"r\"):\n",
    "    result=\"Sorry. Player 1 lose.\"\n",
    "    \n",
    "elif (player_1 == \"p\" and player_2 == \"r\"):\n",
    "    result=\"Yay! Player 1 won.\"\n",
    "    \n",
    "elif (player_1 == \"r\" and player_2 == \"s\"):\n",
    "    result=\"Yay! Player 1 won.\"\n",
    "    \n",
    "elif (player_1 == \"s\" and player_2 == \"p\"):\n",
    "    result=\"Yay! Player 1 won.\"\n",
    "\n",
    "else:\n",
    "    result=\"I don't understand! Next time, choose from 'r' or 'p'.\"\n",
    "    \n",
    "print(f\"Player 1 chose {player_1}. Player 2 chose {player_2}.\")\n",
    "print(result)"
   ]
  },
  {
   "cell_type": "markdown",
   "metadata": {},
   "source": [
    "### Wrap around a function"
   ]
  },
  {
   "cell_type": "code",
   "execution_count": 32,
   "metadata": {},
   "outputs": [],
   "source": [
    "import random\n",
    "options = [\"r\", \"p\", \"s\"]\n",
    "\n",
    "def RPS():     \n",
    "    player_1 = random.choice(options)\n",
    "    player_2 = random.choice(options)\n",
    "    if (player_1 == \"r\" and player_2 == \"p\"):\n",
    "        result='Player 1 Lose'\n",
    "    elif (player_1 == \"r\" and player_2 == \"s\"):\n",
    "        result='Player 1 Win'\n",
    "    elif (player_1 == \"p\" and player_2 == \"s\"):\n",
    "        result='Player 1 Lose'\n",
    "    elif (player_1 == \"p\" and player_2 == \"r\"):\n",
    "        result='Player 1 Win'\n",
    "    elif (player_1 == \"s\" and player_2 == \"p\"):\n",
    "        result='Player 1 Win'\n",
    "    elif (player_1 == \"s\" and player_2 == \"r\"):\n",
    "        result='Player 1 Lose'\n",
    "    elif (player_1 == player_2):\n",
    "        result='Tie'\n",
    "    else:\n",
    "        print(\"I don't understand that! Next time, choose from 'r', 'p', or 's'.\")\n",
    "    return (player_1, player_2, result)"
   ]
  },
  {
   "cell_type": "markdown",
   "metadata": {},
   "source": [
    "### Write results to CSV"
   ]
  },
  {
   "cell_type": "code",
   "execution_count": 33,
   "metadata": {},
   "outputs": [],
   "source": [
    "import csv\n",
    "with open('result/result.csv', 'w') as f: \n",
    "    csvwriter=csv.writer(f)\n",
    "    for i in range(100): \n",
    "        csvwriter.writerow(RPS())"
   ]
  }
 ],
 "metadata": {
  "kernelspec": {
   "display_name": "Python 3",
   "language": "python",
   "name": "python3"
  },
  "language_info": {
   "codemirror_mode": {
    "name": "ipython",
    "version": 3
   },
   "file_extension": ".py",
   "mimetype": "text/x-python",
   "name": "python",
   "nbconvert_exporter": "python",
   "pygments_lexer": "ipython3",
   "version": "3.7.1"
  }
 },
 "nbformat": 4,
 "nbformat_minor": 2
}
