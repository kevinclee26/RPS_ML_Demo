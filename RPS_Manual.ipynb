{
 "cells": [
  {
   "cell_type": "markdown",
   "metadata": {},
   "source": [
    "### activity to manually program rules for RPS"
   ]
  },
  {
   "cell_type": "code",
   "execution_count": null,
   "metadata": {},
   "outputs": [
    {
     "name": "stdout",
     "output_type": "stream",
     "text": [
      "Let's Play Rock Paper Scissors!\n",
      "User 1: Make your Choice: (r)ock, (p)aper? r\n",
      "User 2: Make your Choice: (r)ock, (p)aper? p\n",
      "User 1 chose r. User 2 chose p.\n",
      "Sorry. You lose.\n"
     ]
    }
   ],
   "source": [
    "# Print Title\n",
    "print(\"Let's Play Rock Paper Scissors!\")\n",
    "\n",
    "# User selection2\n",
    "player_1 = input(\"User 1: Make your Choice: (r)ock, (p)aper? \")\n",
    "player_2 = input(\"User 2: Make your Choice: (r)ock, (p)aper? \")\n",
    "\n",
    "# Run conditionals\n",
    "if (player_1 == player_2): \n",
    "    print(f\"User 1 chose {player_1}. User 2 chose {player_2}.\")\n",
    "    print(\"A smashing tie!\")\n",
    "    \n",
    "elif (player_1 == \"r\" and player_2 == \"p\"):\n",
    "    print(f\"User 1 chose {player_1}. User 2 chose {player_2}.\")\n",
    "    print(\"Sorry. You lose.\")\n",
    "\n",
    "elif (player_1 == \"p\" and player_2 == \"r\"):\n",
    "    print(f\"User 1 chose {player_1}. User 2 chose {player_2}.\")\n",
    "    print(\"Yay! You won.\")\n",
    "\n",
    "else:\n",
    "    print(\"I don't understand that!\")\n",
    "    print(\"Next time, choose from 'r' or 'p'.\")"
   ]
  },
  {
   "cell_type": "code",
   "execution_count": 1,
   "metadata": {},
   "outputs": [
    {
     "name": "stdout",
     "output_type": "stream",
     "text": [
      "Let's Play Rock Paper Scissors!\n",
      "Make your Choice: (r)ock, (p)aper, (s)cissors? r\n",
      "You chose rock. The computer chose scissors.\n",
      "Yay! You won.\n"
     ]
    }
   ],
   "source": [
    "import random\n",
    "# Print Title\n",
    "print(\"Let's Play Rock Paper Scissors!\")\n",
    "\n",
    "# Specify the three options\n",
    "options = [\"r\", \"p\", \"s\"]\n",
    "\n",
    "# Computer selection\n",
    "computer_choice = random.choice(options)\n",
    "\n",
    "# User selection\n",
    "user_choice = input(\"Make your Choice: (r)ock, (p)aper, (s)cissors? \")\n",
    "\n",
    "# Run conditionals\n",
    "if (user_choice == \"r\" and computer_choice == \"p\"):\n",
    "    print(\"You chose rock. The computer chose paper.\")\n",
    "    print(\"Sorry. You lose.\")\n",
    "\n",
    "elif (user_choice == \"r\" and computer_choice == \"s\"):\n",
    "    print(\"You chose rock. The computer chose scissors.\")\n",
    "    print(\"Yay! You won.\")\n",
    "\n",
    "elif (user_choice == \"r\" and computer_choice == \"r\"):\n",
    "    print(\"You chose rock. The computer chose rock.\")\n",
    "    print(\"A smashing tie!\")\n",
    "\n",
    "elif (user_choice == \"p\" and computer_choice == \"p\"):\n",
    "    print(\"You chose paper. The computer chose paper.\")\n",
    "    print(\"A smashing tie!\")\n",
    "\n",
    "elif (user_choice == \"p\" and computer_choice == \"s\"):\n",
    "    print(\"You chose paper. The computer chose scissors.\")\n",
    "    print(\"Sorry. You lose.\")\n",
    "\n",
    "elif (user_choice == \"p\" and computer_choice == \"r\"):\n",
    "    print(\"You chose paper. The computer chose rock.\")\n",
    "    print(\"Yay! You won.\")\n",
    "\n",
    "elif (user_choice == \"s\" and computer_choice == \"p\"):\n",
    "    print(\"You chose scissors. The computer chose paper.\")\n",
    "    print(\"Yay! You won.\")\n",
    "\n",
    "elif (user_choice == \"s\" and computer_choice == \"s\"):\n",
    "    print(\"You chose scissors. The computer chose scissors.\")\n",
    "    print(\"A smashing tie!\")\n",
    "\n",
    "elif (user_choice == \"s\" and computer_choice == \"r\"):\n",
    "    print(\"You chose scissors. The computer chose rock.\")\n",
    "    print(\"Sorry. You lose.\")\n",
    "\n",
    "else:\n",
    "    print(\"I don't understand that!\")\n",
    "    print(\"Next time, choose from 'r', 'p', or 's'.\")\n"
   ]
  },
  {
   "cell_type": "markdown",
   "metadata": {},
   "source": [
    "### Wrap around a function"
   ]
  },
  {
   "cell_type": "code",
   "execution_count": 10,
   "metadata": {},
   "outputs": [],
   "source": [
    "import random\n",
    "options = [\"r\", \"p\", \"s\"]\n",
    "\n",
    "def RPS():     \n",
    "    computer_choice = random.choice(options)\n",
    "    user_choice = random.choice(options)\n",
    "    if (user_choice == \"r\" and computer_choice == \"p\"):\n",
    "        result='Lose'\n",
    "    elif (user_choice == \"r\" and computer_choice == \"s\"):\n",
    "        result='Win'\n",
    "    elif (user_choice == \"p\" and computer_choice == \"s\"):\n",
    "        result='Lose'\n",
    "    elif (user_choice == \"p\" and computer_choice == \"r\"):\n",
    "        result='Win'\n",
    "    elif (user_choice == \"s\" and computer_choice == \"p\"):\n",
    "        result='Win'\n",
    "    elif (user_choice == \"s\" and computer_choice == \"r\"):\n",
    "        result='Lose'\n",
    "    elif (user_choice == computer_choice):\n",
    "        result='Tie'\n",
    "    else:\n",
    "        print(\"I don't understand that! Next time, choose from 'r', 'p', or 's'.\")\n",
    "    return (user_choice, computer_choice, result)"
   ]
  },
  {
   "cell_type": "markdown",
   "metadata": {},
   "source": [
    "### Write results to CSV"
   ]
  },
  {
   "cell_type": "code",
   "execution_count": 14,
   "metadata": {},
   "outputs": [],
   "source": [
    "import csv\n",
    "with open('result/result.csv', 'w') as f: \n",
    "    csvwriter=csv.writer(f)\n",
    "    for i in range(100): \n",
    "        csvwriter.writerow(RPS())"
   ]
  },
  {
   "cell_type": "code",
   "execution_count": null,
   "metadata": {},
   "outputs": [],
   "source": []
  }
 ],
 "metadata": {
  "kernelspec": {
   "display_name": "Python 3",
   "language": "python",
   "name": "python3"
  },
  "language_info": {
   "codemirror_mode": {
    "name": "ipython",
    "version": 3
   },
   "file_extension": ".py",
   "mimetype": "text/x-python",
   "name": "python",
   "nbconvert_exporter": "python",
   "pygments_lexer": "ipython3",
   "version": "3.7.1"
  }
 },
 "nbformat": 4,
 "nbformat_minor": 2
}
